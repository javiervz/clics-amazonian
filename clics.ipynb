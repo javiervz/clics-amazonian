{
 "cells": [
  {
   "cell_type": "markdown",
   "id": "b110c061",
   "metadata": {},
   "source": [
    "## Clics"
   ]
  },
  {
   "cell_type": "markdown",
   "id": "113bb58a",
   "metadata": {},
   "source": [
    "## 1. Leemos los datos"
   ]
  },
  {
   "cell_type": "code",
   "execution_count": 24,
   "id": "99970849",
   "metadata": {},
   "outputs": [],
   "source": [
    "import glob as glob\n",
    "import pandas as pd\n",
    "\n",
    "archivos_csv = glob.glob('families/*.csv')\n",
    "archivos = {fp[9:-4]:pd.read_csv(fp, sep=',') for fp in archivos_csv}"
   ]
  },
  {
   "cell_type": "code",
   "execution_count": 25,
   "id": "6aca9102",
   "metadata": {},
   "outputs": [],
   "source": [
    "archivos = {key:len(list(set(archivos[key]['glottocode']))) for key in archivos.keys()}"
   ]
  },
  {
   "cell_type": "code",
   "execution_count": 34,
   "id": "2161b819",
   "metadata": {},
   "outputs": [],
   "source": [
    "D = dict(sorted(archivos.items(), key=lambda item: item[1], reverse=True))"
   ]
  },
  {
   "cell_type": "code",
   "execution_count": 35,
   "id": "2dad1ee9",
   "metadata": {},
   "outputs": [],
   "source": [
    "data = {'families': D.keys(), 'number of languages': D.values()}\n",
    "DF = pd.DataFrame.from_dict(data)"
   ]
  },
  {
   "cell_type": "code",
   "execution_count": 37,
   "id": "84c2efb2",
   "metadata": {},
   "outputs": [],
   "source": [
    "DF.to_excel(\"clics_amazonian.xlsx\") "
   ]
  },
  {
   "cell_type": "code",
   "execution_count": 31,
   "id": "15768dcd",
   "metadata": {},
   "outputs": [
    {
     "data": {
      "text/plain": [
       "24"
      ]
     },
     "execution_count": 31,
     "metadata": {},
     "output_type": "execute_result"
    }
   ],
   "source": [
    "## número de familias\n",
    "\n",
    "len(archivos)"
   ]
  },
  {
   "cell_type": "code",
   "execution_count": 32,
   "id": "2f70a30b",
   "metadata": {},
   "outputs": [
    {
     "data": {
      "text/plain": [
       "112"
      ]
     },
     "execution_count": 32,
     "metadata": {},
     "output_type": "execute_result"
    }
   ],
   "source": [
    "## número de lenguas\n",
    "\n",
    "sum(list(archivos.values()))"
   ]
  },
  {
   "cell_type": "code",
   "execution_count": null,
   "id": "7bee0023",
   "metadata": {},
   "outputs": [],
   "source": []
  }
 ],
 "metadata": {
  "kernelspec": {
   "display_name": "Python 3",
   "language": "python",
   "name": "python3"
  },
  "language_info": {
   "codemirror_mode": {
    "name": "ipython",
    "version": 3
   },
   "file_extension": ".py",
   "mimetype": "text/x-python",
   "name": "python",
   "nbconvert_exporter": "python",
   "pygments_lexer": "ipython3",
   "version": "3.8.8"
  }
 },
 "nbformat": 4,
 "nbformat_minor": 5
}
