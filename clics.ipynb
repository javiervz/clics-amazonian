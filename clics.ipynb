{
 "cells": [
  {
   "cell_type": "markdown",
   "id": "b110c061",
   "metadata": {},
   "source": [
    "## Clics"
   ]
  },
  {
   "cell_type": "markdown",
   "id": "113bb58a",
   "metadata": {},
   "source": [
    "## 1. Leemos los datos"
   ]
  },
  {
   "cell_type": "code",
   "execution_count": 63,
   "id": "ce268c1b",
   "metadata": {},
   "outputs": [],
   "source": [
    "import glob as glob\n",
    "import pandas as pd\n",
    "\n",
    "archivos_csv = glob.glob('families/*.csv')\n",
    "archivos = {fp[9:-4]:pd.read_csv(fp, sep=',') for fp in archivos_csv}"
   ]
  },
  {
   "cell_type": "code",
   "execution_count": 64,
   "id": "c506bab2",
   "metadata": {},
   "outputs": [],
   "source": [
    "lenguas = {key:dict(zip(archivos[key]['glottocode'],archivos[key]['name'])) for key in archivos.keys()}"
   ]
  },
  {
   "cell_type": "code",
   "execution_count": 65,
   "id": "106df802",
   "metadata": {},
   "outputs": [],
   "source": [
    "lenguas = list(lenguas.values())\n",
    "\n",
    "from collections import ChainMap\n",
    "\n",
    "lenguas = dict(ChainMap(*lenguas))"
   ]
  },
  {
   "cell_type": "code",
   "execution_count": 66,
   "id": "219da9e6",
   "metadata": {},
   "outputs": [],
   "source": [
    "data = {'glottocode': lenguas.keys(), 'name': lenguas.values()}\n",
    "DF = pd.DataFrame.from_dict(data)"
   ]
  },
  {
   "cell_type": "code",
   "execution_count": 67,
   "id": "ff939d6c",
   "metadata": {},
   "outputs": [
    {
     "data": {
      "text/html": [
       "<div>\n",
       "<style scoped>\n",
       "    .dataframe tbody tr th:only-of-type {\n",
       "        vertical-align: middle;\n",
       "    }\n",
       "\n",
       "    .dataframe tbody tr th {\n",
       "        vertical-align: top;\n",
       "    }\n",
       "\n",
       "    .dataframe thead th {\n",
       "        text-align: right;\n",
       "    }\n",
       "</style>\n",
       "<table border=\"1\" class=\"dataframe\">\n",
       "  <thead>\n",
       "    <tr style=\"text-align: right;\">\n",
       "      <th></th>\n",
       "      <th>glottocode</th>\n",
       "      <th>name</th>\n",
       "    </tr>\n",
       "  </thead>\n",
       "  <tbody>\n",
       "    <tr>\n",
       "      <th>0</th>\n",
       "      <td>yura1255</td>\n",
       "      <td>Yurakaré</td>\n",
       "    </tr>\n",
       "    <tr>\n",
       "      <th>1</th>\n",
       "      <td>nina1238</td>\n",
       "      <td>Ninam (Shirishana variety)</td>\n",
       "    </tr>\n",
       "    <tr>\n",
       "      <th>2</th>\n",
       "      <td>yano1262</td>\n",
       "      <td>Yanomámi</td>\n",
       "    </tr>\n",
       "    <tr>\n",
       "      <th>3</th>\n",
       "      <td>waor1240</td>\n",
       "      <td>Waorani</td>\n",
       "    </tr>\n",
       "    <tr>\n",
       "      <th>4</th>\n",
       "      <td>ache1246</td>\n",
       "      <td>Aché</td>\n",
       "    </tr>\n",
       "    <tr>\n",
       "      <th>...</th>\n",
       "      <td>...</td>\n",
       "      <td>...</td>\n",
       "    </tr>\n",
       "    <tr>\n",
       "      <th>107</th>\n",
       "      <td>trin1274</td>\n",
       "      <td>Trinitario</td>\n",
       "    </tr>\n",
       "    <tr>\n",
       "      <th>108</th>\n",
       "      <td>wapi1253</td>\n",
       "      <td>Wapishana</td>\n",
       "    </tr>\n",
       "    <tr>\n",
       "      <th>109</th>\n",
       "      <td>waur1244</td>\n",
       "      <td>Waurá</td>\n",
       "    </tr>\n",
       "    <tr>\n",
       "      <th>110</th>\n",
       "      <td>yavi1244</td>\n",
       "      <td>Yavitero</td>\n",
       "    </tr>\n",
       "    <tr>\n",
       "      <th>111</th>\n",
       "      <td>yucu1253</td>\n",
       "      <td>Yucuna</td>\n",
       "    </tr>\n",
       "  </tbody>\n",
       "</table>\n",
       "<p>112 rows × 2 columns</p>\n",
       "</div>"
      ],
      "text/plain": [
       "    glottocode                        name\n",
       "0     yura1255                    Yurakaré\n",
       "1     nina1238  Ninam (Shirishana variety)\n",
       "2     yano1262                    Yanomámi\n",
       "3     waor1240                     Waorani\n",
       "4     ache1246                        Aché\n",
       "..         ...                         ...\n",
       "107   trin1274                  Trinitario\n",
       "108   wapi1253                   Wapishana\n",
       "109   waur1244                       Waurá\n",
       "110   yavi1244                    Yavitero\n",
       "111   yucu1253                      Yucuna\n",
       "\n",
       "[112 rows x 2 columns]"
      ]
     },
     "execution_count": 67,
     "metadata": {},
     "output_type": "execute_result"
    }
   ],
   "source": [
    "DF"
   ]
  },
  {
   "cell_type": "code",
   "execution_count": 68,
   "id": "0e0d130f",
   "metadata": {},
   "outputs": [],
   "source": [
    "DF.to_excel(\"clics_amazonian_languages.xlsx\") "
   ]
  },
  {
   "cell_type": "code",
   "execution_count": 69,
   "id": "6fad720b",
   "metadata": {},
   "outputs": [],
   "source": [
    "archivos = {key:len(list(set(archivos[key]['glottocode']))) for key in archivos.keys()}"
   ]
  },
  {
   "cell_type": "code",
   "execution_count": 70,
   "id": "0285a882",
   "metadata": {},
   "outputs": [],
   "source": [
    "D = dict(sorted(archivos.items(), key=lambda item: item[1], reverse=True))"
   ]
  },
  {
   "cell_type": "code",
   "execution_count": 71,
   "id": "849f2750",
   "metadata": {},
   "outputs": [],
   "source": [
    "data = {'families': D.keys(), 'number of languages': D.values()}\n",
    "DF = pd.DataFrame.from_dict(data)"
   ]
  },
  {
   "cell_type": "code",
   "execution_count": 72,
   "id": "afd6aa7e",
   "metadata": {},
   "outputs": [],
   "source": [
    "DF.to_excel(\"clics_amazonian.xlsx\") "
   ]
  },
  {
   "cell_type": "code",
   "execution_count": 73,
   "id": "947932e9",
   "metadata": {},
   "outputs": [
    {
     "data": {
      "text/plain": [
       "24"
      ]
     },
     "execution_count": 73,
     "metadata": {},
     "output_type": "execute_result"
    }
   ],
   "source": [
    "## número de familias\n",
    "\n",
    "len(archivos)"
   ]
  },
  {
   "cell_type": "code",
   "execution_count": 74,
   "id": "48a252a7",
   "metadata": {},
   "outputs": [
    {
     "data": {
      "text/plain": [
       "112"
      ]
     },
     "execution_count": 74,
     "metadata": {},
     "output_type": "execute_result"
    }
   ],
   "source": [
    "## número de lenguas\n",
    "\n",
    "sum(list(archivos.values()))"
   ]
  },
  {
   "cell_type": "code",
   "execution_count": null,
   "id": "4961db92",
   "metadata": {},
   "outputs": [],
   "source": []
  },
  {
   "cell_type": "code",
   "execution_count": null,
   "id": "170c82e5",
   "metadata": {},
   "outputs": [],
   "source": []
  }
 ],
 "metadata": {
  "kernelspec": {
   "display_name": "Python 3",
   "language": "python",
   "name": "python3"
  },
  "language_info": {
   "codemirror_mode": {
    "name": "ipython",
    "version": 3
   },
   "file_extension": ".py",
   "mimetype": "text/x-python",
   "name": "python",
   "nbconvert_exporter": "python",
   "pygments_lexer": "ipython3",
   "version": "3.8.8"
  }
 },
 "nbformat": 4,
 "nbformat_minor": 5
}
